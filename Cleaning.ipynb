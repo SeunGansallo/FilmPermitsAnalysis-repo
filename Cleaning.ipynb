{
 "cells": [
  {
   "cell_type": "code",
   "execution_count": 4,
   "metadata": {},
   "outputs": [
    {
     "data": {
      "text/html": [
       "<div>\n",
       "<style scoped>\n",
       "    .dataframe tbody tr th:only-of-type {\n",
       "        vertical-align: middle;\n",
       "    }\n",
       "\n",
       "    .dataframe tbody tr th {\n",
       "        vertical-align: top;\n",
       "    }\n",
       "\n",
       "    .dataframe thead th {\n",
       "        text-align: right;\n",
       "    }\n",
       "</style>\n",
       "<table border=\"1\" class=\"dataframe\">\n",
       "  <thead>\n",
       "    <tr style=\"text-align: right;\">\n",
       "      <th></th>\n",
       "      <th>EventID</th>\n",
       "      <th>EventType</th>\n",
       "      <th>StartDateTime</th>\n",
       "      <th>EndDateTime</th>\n",
       "      <th>EnteredOn</th>\n",
       "      <th>EventAgency</th>\n",
       "      <th>ParkingHeld</th>\n",
       "      <th>Borough</th>\n",
       "      <th>CommunityBoard(s)</th>\n",
       "      <th>PolicePrecinct(s)</th>\n",
       "      <th>Category</th>\n",
       "      <th>SubCategoryName</th>\n",
       "      <th>Country</th>\n",
       "      <th>ZipCode(s)</th>\n",
       "    </tr>\n",
       "  </thead>\n",
       "  <tbody>\n",
       "    <tr>\n",
       "      <th>0</th>\n",
       "      <td>728964</td>\n",
       "      <td>Theater Load in and Load Outs</td>\n",
       "      <td>07/08/2023 07:00:00 AM</td>\n",
       "      <td>07/10/2023 01:00:00 PM</td>\n",
       "      <td>07/06/2023 05:17:06 PM</td>\n",
       "      <td>Mayor's Office of Film, Theatre &amp; Broadcasting</td>\n",
       "      <td>ATLANTIC AVENUE between FORT GREENE PLACE and ...</td>\n",
       "      <td>Brooklyn</td>\n",
       "      <td>2, 6</td>\n",
       "      <td>78</td>\n",
       "      <td>Theater</td>\n",
       "      <td>Theater</td>\n",
       "      <td>United States of America</td>\n",
       "      <td>11217</td>\n",
       "    </tr>\n",
       "    <tr>\n",
       "      <th>1</th>\n",
       "      <td>728864</td>\n",
       "      <td>Shooting Permit</td>\n",
       "      <td>07/07/2023 03:00:00 PM</td>\n",
       "      <td>07/07/2023 11:59:00 PM</td>\n",
       "      <td>07/06/2023 12:28:41 PM</td>\n",
       "      <td>Mayor's Office of Film, Theatre &amp; Broadcasting</td>\n",
       "      <td>WEST   48 STREET between 6 AVENUE and 7 AVENUE</td>\n",
       "      <td>Manhattan</td>\n",
       "      <td>5</td>\n",
       "      <td>18</td>\n",
       "      <td>Television</td>\n",
       "      <td>News</td>\n",
       "      <td>United States of America</td>\n",
       "      <td>10036, 10105</td>\n",
       "    </tr>\n",
       "    <tr>\n",
       "      <th>2</th>\n",
       "      <td>728811</td>\n",
       "      <td>Shooting Permit</td>\n",
       "      <td>07/08/2023 08:00:00 AM</td>\n",
       "      <td>07/09/2023 11:00:00 PM</td>\n",
       "      <td>07/06/2023 09:54:57 AM</td>\n",
       "      <td>Mayor's Office of Film, Theatre &amp; Broadcasting</td>\n",
       "      <td>POINT CRESCENT between BOULEVARD and 141 STREE...</td>\n",
       "      <td>Queens</td>\n",
       "      <td>7</td>\n",
       "      <td>109</td>\n",
       "      <td>Television</td>\n",
       "      <td>Episodic series</td>\n",
       "      <td>United States of America</td>\n",
       "      <td>11357</td>\n",
       "    </tr>\n",
       "    <tr>\n",
       "      <th>3</th>\n",
       "      <td>728533</td>\n",
       "      <td>Shooting Permit</td>\n",
       "      <td>07/06/2023 12:00:00 AM</td>\n",
       "      <td>07/06/2023 01:00:00 PM</td>\n",
       "      <td>07/05/2023 08:24:16 AM</td>\n",
       "      <td>Mayor's Office of Film, Theatre &amp; Broadcasting</td>\n",
       "      <td>WEST   48 STREET between 6 AVENUE and 7 AVENUE</td>\n",
       "      <td>Manhattan</td>\n",
       "      <td>5</td>\n",
       "      <td>18</td>\n",
       "      <td>Television</td>\n",
       "      <td>News</td>\n",
       "      <td>United States of America</td>\n",
       "      <td>10036, 10105</td>\n",
       "    </tr>\n",
       "    <tr>\n",
       "      <th>4</th>\n",
       "      <td>728455</td>\n",
       "      <td>Shooting Permit</td>\n",
       "      <td>07/08/2023 02:00:00 AM</td>\n",
       "      <td>07/08/2023 11:59:00 PM</td>\n",
       "      <td>07/04/2023 01:21:33 PM</td>\n",
       "      <td>Mayor's Office of Film, Theatre &amp; Broadcasting</td>\n",
       "      <td>WEST   48 STREET between 6 AVENUE and 7 AVENUE...</td>\n",
       "      <td>Manhattan</td>\n",
       "      <td>5</td>\n",
       "      <td>18</td>\n",
       "      <td>Television</td>\n",
       "      <td>News</td>\n",
       "      <td>United States of America</td>\n",
       "      <td>10036, 10105</td>\n",
       "    </tr>\n",
       "  </tbody>\n",
       "</table>\n",
       "</div>"
      ],
      "text/plain": [
       "   EventID                      EventType           StartDateTime  \\\n",
       "0   728964  Theater Load in and Load Outs  07/08/2023 07:00:00 AM   \n",
       "1   728864                Shooting Permit  07/07/2023 03:00:00 PM   \n",
       "2   728811                Shooting Permit  07/08/2023 08:00:00 AM   \n",
       "3   728533                Shooting Permit  07/06/2023 12:00:00 AM   \n",
       "4   728455                Shooting Permit  07/08/2023 02:00:00 AM   \n",
       "\n",
       "              EndDateTime               EnteredOn  \\\n",
       "0  07/10/2023 01:00:00 PM  07/06/2023 05:17:06 PM   \n",
       "1  07/07/2023 11:59:00 PM  07/06/2023 12:28:41 PM   \n",
       "2  07/09/2023 11:00:00 PM  07/06/2023 09:54:57 AM   \n",
       "3  07/06/2023 01:00:00 PM  07/05/2023 08:24:16 AM   \n",
       "4  07/08/2023 11:59:00 PM  07/04/2023 01:21:33 PM   \n",
       "\n",
       "                                      EventAgency  \\\n",
       "0  Mayor's Office of Film, Theatre & Broadcasting   \n",
       "1  Mayor's Office of Film, Theatre & Broadcasting   \n",
       "2  Mayor's Office of Film, Theatre & Broadcasting   \n",
       "3  Mayor's Office of Film, Theatre & Broadcasting   \n",
       "4  Mayor's Office of Film, Theatre & Broadcasting   \n",
       "\n",
       "                                         ParkingHeld    Borough  \\\n",
       "0  ATLANTIC AVENUE between FORT GREENE PLACE and ...   Brooklyn   \n",
       "1     WEST   48 STREET between 6 AVENUE and 7 AVENUE  Manhattan   \n",
       "2  POINT CRESCENT between BOULEVARD and 141 STREE...     Queens   \n",
       "3     WEST   48 STREET between 6 AVENUE and 7 AVENUE  Manhattan   \n",
       "4  WEST   48 STREET between 6 AVENUE and 7 AVENUE...  Manhattan   \n",
       "\n",
       "  CommunityBoard(s) PolicePrecinct(s)    Category  SubCategoryName  \\\n",
       "0              2, 6                78     Theater          Theater   \n",
       "1                 5                18  Television             News   \n",
       "2                 7               109  Television  Episodic series   \n",
       "3                 5                18  Television             News   \n",
       "4                 5                18  Television             News   \n",
       "\n",
       "                    Country    ZipCode(s)  \n",
       "0  United States of America         11217  \n",
       "1  United States of America  10036, 10105  \n",
       "2  United States of America         11357  \n",
       "3  United States of America  10036, 10105  \n",
       "4  United States of America  10036, 10105  "
      ]
     },
     "execution_count": 4,
     "metadata": {},
     "output_type": "execute_result"
    }
   ],
   "source": [
    "#import libraries\n",
    "import pandas as pd \n",
    "import numpy as np \n",
    "from matplotlib import pyplot as plt \n",
    "import seaborn as sns\n",
    "\n",
    "#load the data\n",
    "data=pd.read_csv('/workspaces/FilmPermitsAnalysis-repo/Film_Permits.csv')\n",
    "data.head()"
   ]
  },
  {
   "cell_type": "code",
   "execution_count": 10,
   "metadata": {},
   "outputs": [
    {
     "name": "stdout",
     "output_type": "stream",
     "text": [
      "(3081, 14)\n",
      "<class 'pandas.core.frame.DataFrame'>\n",
      "RangeIndex: 3081 entries, 0 to 3080\n",
      "Data columns (total 14 columns):\n",
      " #   Column             Non-Null Count  Dtype \n",
      "---  ------             --------------  ----- \n",
      " 0   EventID            3081 non-null   int64 \n",
      " 1   EventType          3081 non-null   object\n",
      " 2   StartDateTime      3081 non-null   object\n",
      " 3   EndDateTime        3081 non-null   object\n",
      " 4   EnteredOn          3081 non-null   object\n",
      " 5   EventAgency        3081 non-null   object\n",
      " 6   ParkingHeld        3081 non-null   object\n",
      " 7   Borough            3081 non-null   object\n",
      " 8   CommunityBoard(s)  3079 non-null   object\n",
      " 9   PolicePrecinct(s)  3079 non-null   object\n",
      " 10  Category           3081 non-null   object\n",
      " 11  SubCategoryName    3081 non-null   object\n",
      " 12  Country            3081 non-null   object\n",
      " 13  ZipCode(s)         3079 non-null   object\n",
      "dtypes: int64(1), object(13)\n",
      "memory usage: 337.1+ KB\n"
     ]
    }
   ],
   "source": [
    "print(data.shape)\n",
    "data.info()"
   ]
  },
  {
   "cell_type": "code",
   "execution_count": 11,
   "metadata": {},
   "outputs": [
    {
     "data": {
      "text/plain": [
       "EventID              0\n",
       "EventType            0\n",
       "StartDateTime        0\n",
       "EndDateTime          0\n",
       "EnteredOn            0\n",
       "EventAgency          0\n",
       "ParkingHeld          0\n",
       "Borough              0\n",
       "CommunityBoard(s)    2\n",
       "PolicePrecinct(s)    2\n",
       "Category             0\n",
       "SubCategoryName      0\n",
       "Country              0\n",
       "ZipCode(s)           2\n",
       "dtype: int64"
      ]
     },
     "execution_count": 11,
     "metadata": {},
     "output_type": "execute_result"
    }
   ],
   "source": [
    "#check for null values\n",
    "data.isna().sum()"
   ]
  },
  {
   "cell_type": "code",
   "execution_count": 16,
   "metadata": {},
   "outputs": [
    {
     "data": {
      "text/plain": [
       "EventID              0\n",
       "EventType            0\n",
       "StartDateTime        0\n",
       "EndDateTime          0\n",
       "EnteredOn            0\n",
       "EventAgency          0\n",
       "ParkingHeld          0\n",
       "Borough              0\n",
       "CommunityBoard(s)    0\n",
       "PolicePrecinct(s)    0\n",
       "Category             0\n",
       "SubCategoryName      0\n",
       "Country              0\n",
       "ZipCode(s)           0\n",
       "dtype: int64"
      ]
     },
     "execution_count": 16,
     "metadata": {},
     "output_type": "execute_result"
    }
   ],
   "source": [
    "#dropna values\n",
    "data.dropna(inplace=True)\n",
    "\n",
    "#check again for null values\n",
    "data.isna().sum()"
   ]
  },
  {
   "cell_type": "code",
   "execution_count": 23,
   "metadata": {},
   "outputs": [],
   "source": [
    "#lets parse the dates\n",
    "data['StartDateTime']=pd.to_datetime(data['StartDateTime'])\n",
    "data['EndDateTime']=pd.to_datetime(data['EndDateTime'])\n",
    "data['EnteredOn']=pd.to_datetime(data['EnteredOn'])\n",
    "\n",
    "#Get a Duration column to know how long permits run for\n",
    "data['Duration']=data['EndDateTime']-data['StartDateTime']\n",
    "\n",
    "#Convert Duration to seconds\n",
    "data['Duration']=data['Duration'].dt.seconds/3600\n"
   ]
  },
  {
   "cell_type": "code",
   "execution_count": 24,
   "metadata": {},
   "outputs": [
    {
     "data": {
      "text/plain": [
       "EventID                       int64\n",
       "EventType                    object\n",
       "StartDateTime        datetime64[ns]\n",
       "EndDateTime          datetime64[ns]\n",
       "EnteredOn            datetime64[ns]\n",
       "EventAgency                  object\n",
       "ParkingHeld                  object\n",
       "Borough                      object\n",
       "CommunityBoard(s)            object\n",
       "PolicePrecinct(s)            object\n",
       "Category                     object\n",
       "SubCategoryName              object\n",
       "Country                      object\n",
       "ZipCode(s)                   object\n",
       "Duration                    float64\n",
       "dtype: object"
      ]
     },
     "execution_count": 24,
     "metadata": {},
     "output_type": "execute_result"
    }
   ],
   "source": [
    "#view data types\n",
    "data.dtypes"
   ]
  },
  {
   "cell_type": "code",
   "execution_count": 27,
   "metadata": {},
   "outputs": [
    {
     "name": "stdout",
     "output_type": "stream",
     "text": [
      "['Brooklyn' 'Manhattan' 'Queens' 'Bronx' 'Staten Island']\n",
      "['Theater' 'Television' 'Commercial' 'Music Video' 'Film' 'WEB'\n",
      " 'Still Photography' 'Documentary' 'Student']\n"
     ]
    }
   ],
   "source": [
    "#Print the Boroughs\n",
    "print(data['Borough'].unique())\n",
    "\n",
    "#print the Categories \n",
    "print(data['Category'].unique())"
   ]
  },
  {
   "cell_type": "code",
   "execution_count": 28,
   "metadata": {},
   "outputs": [
    {
     "data": {
      "text/plain": [
       "Category\n",
       "Television           1688\n",
       "Theater               501\n",
       "Film                  323\n",
       "Commercial            232\n",
       "Still Photography     150\n",
       "WEB                   126\n",
       "Documentary            32\n",
       "Student                19\n",
       "Music Video             8\n",
       "Name: count, dtype: int64"
      ]
     },
     "execution_count": 28,
     "metadata": {},
     "output_type": "execute_result"
    }
   ],
   "source": [
    "#Number od times each categories were given permits\n",
    "data['Category'].value_counts()"
   ]
  },
  {
   "cell_type": "markdown",
   "metadata": {},
   "source": [
    "VISUALIZATIONS"
   ]
  },
  {
   "cell_type": "code",
   "execution_count": 39,
   "metadata": {},
   "outputs": [
    {
     "data": {
      "image/png": "[encoded data removed]",
      "text/plain": [
       "<Figure size 1000x500 with 1 Axes>"
      ]
     },
     "metadata": {},
     "output_type": "display_data"
    }
   ],
   "source": [
    "plt.figure(figsize=(10,5))\n",
    "sns.countplot(data=data, x='Borough', hue='Category')\n",
    "\n",
    "plt.xlabel('Boroughs')\n",
    "plt.ylabel('Counts')\n",
    "plt.title('Stacked Barchat of Categories as they pan out across all Boroughs')\n",
    "\n",
    "plt.show()"
   ]
  }
 ],
 "metadata": {
  "kernelspec": {
   "display_name": "Python 3",
   "language": "python",
   "name": "python3"
  },
  "language_info": {
   "codemirror_mode": {
    "name": "ipython",
    "version": 3
   },
   "file_extension": ".py",
   "mimetype": "text/x-python",
   "name": "python",
   "nbconvert_exporter": "python",
   "pygments_lexer": "ipython3",
   "version": "3.10.13"
  }
 },
 "nbformat": 4,
 "nbformat_minor": 2
}
